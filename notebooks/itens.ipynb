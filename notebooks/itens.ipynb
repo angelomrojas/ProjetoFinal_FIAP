{
 "cells": [
  {
   "cell_type": "code",
   "execution_count": 57,
   "id": "3968daa2-5ce1-48c1-a5a8-b88644f56c6b",
   "metadata": {},
   "outputs": [],
   "source": [
    "import pandas as pd\n",
    "import unidecode"
   ]
  },
  {
   "cell_type": "code",
   "execution_count": 90,
   "id": "13a41fc5-c589-4228-829c-15659a00b06d",
   "metadata": {},
   "outputs": [],
   "source": [
    "url_data_bronze = '../data/bronze'\n",
    "url_data_prata = '../data/prata'\n",
    "itens_url = [url_data_bronze + '/itens/itens/itens-parte1.csv', url_data_bronze + '/itens/itens/itens-parte2.csv',\n",
    "             url_data_bronze + '/itens/itens/itens-parte3.csv']"
   ]
  },
  {
   "cell_type": "code",
   "execution_count": 19,
   "id": "4f1c5151-183f-42d3-8ceb-821d562b4e06",
   "metadata": {},
   "outputs": [],
   "source": [
    "itens = pd.DataFrame({'page':[], 'url':[],\n",
    "                     'issued':[], 'modified':[],\n",
    "                      'title':[], 'body':[],\n",
    "                      'caption':[]\n",
    "                     })\n",
    "\n",
    "for item_url in itens_url:\n",
    "    novos_itens = pd.read_csv(item_url)\n",
    "    itens = pd.concat([itens, novos_itens])\n",
    "\n",
    "itens['issued'] = pd.to_datetime(itens['issued'])\n",
    "itens['modified'] = pd.to_datetime(itens['modified'])\n",
    "\n",
    "itens['title'] = itens['title'].apply(lambda x: unidecode.unidecode(x.lower()))\n",
    "itens['body'] = itens['body'].apply(lambda x: unidecode.unidecode(x.lower()))\n",
    "itens['caption'] = itens['body'].apply(lambda x: unidecode.unidecode(x.lower()))"
   ]
  },
  {
   "cell_type": "code",
   "execution_count": 92,
   "id": "871e0c1a-e6bf-42c1-a165-a138a3a3c97f",
   "metadata": {},
   "outputs": [],
   "source": [
    "itens.to_csv(url_data_prata + '/itens.csv')"
   ]
  }
 ],
 "metadata": {
  "kernelspec": {
   "display_name": "Python 3 (ipykernel)",
   "language": "python",
   "name": "python3"
  },
  "language_info": {
   "codemirror_mode": {
    "name": "ipython",
    "version": 3
   },
   "file_extension": ".py",
   "mimetype": "text/x-python",
   "name": "python",
   "nbconvert_exporter": "python",
   "pygments_lexer": "ipython3",
   "version": "3.12.7"
  }
 },
 "nbformat": 4,
 "nbformat_minor": 5
}
